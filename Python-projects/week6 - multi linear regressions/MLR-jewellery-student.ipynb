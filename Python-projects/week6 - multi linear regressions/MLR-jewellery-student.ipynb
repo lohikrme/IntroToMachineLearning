{
 "cells": [
  {
   "cell_type": "markdown",
   "metadata": {},
   "source": [
    "# Jewellery estimation\n",
    "\n",
    "Use linear regression to estimate the price of jewellery.\n",
    "\n",
    "## Dataset definition\n",
    "\n",
    "A jeweller prices stones on the basis of quality and color. \n",
    "- quality estimate values ranges from 0 to 8, with 8 being flawless and 0 containing numerous imperfections\n",
    "- color values ranges from 1 to 10, with 10 being pure white and 1 being yellow \n",
    " \n",
    "Based on the price per carat (in hundreds of euros) of the following 11 diamonds  \n",
    "weighing between 1.0 and 1.5 carats, determine the relationship between quality, color and price.\n",
    "\n",
    "|Color|Quality|Price/cr|\n",
    "|:-----:|:--------:|:-------:|\n",
    "|    7|       5|     65|\n",
    "|    3|       7|     38|\n",
    "|    5|       8|     51|\n",
    "|    8|       1|     38|\n",
    "|    9|       3|     55|\n",
    "|    5|       4|     43|\n",
    "|    4|       0|     25|\n",
    "|    2|       6|     33|\n",
    "|    8|       7|     71|\n",
    "|    6|       4|     51|\n",
    "|    9|       2|     49|\n",
    "\n",
    "\n",
    "## Estimation\n",
    "\n",
    "Estimate the price of the following stones based on Color and Quality:\n",
    "\n",
    "|Color|Quality|Price/cr|\n",
    "|:-----:|:--------:|:-------:|\n",
    "|    8|       5|   xx |\n",
    "|    1|       0|   xx |\n",
    "|    1|       8|   xx |\n",
    "|   10|       0|   xx |\n",
    "|   10|       8|   xx |\n",
    "\n",
    "Write down the regression line coefficients and intercepts of the model too."
   ]
  },
  {
   "cell_type": "code",
   "execution_count": 38,
   "metadata": {},
   "outputs": [
    {
     "name": "stdout",
     "output_type": "stream",
     "text": [
      "           color    quality   price/cr\n",
      "count  11.000000  11.000000  11.000000\n",
      "mean    6.000000   4.272727  47.181818\n",
      "std     2.408319   2.611165  13.629513\n",
      "min     2.000000   0.000000  25.000000\n",
      "25%     4.500000   2.500000  38.000000\n",
      "50%     6.000000   4.000000  49.000000\n",
      "75%     8.000000   6.500000  53.000000\n",
      "max     9.000000   8.000000  71.000000\n",
      "\n",
      "    color  quality  price/cr\n",
      "0       7        5        65\n",
      "1       3        7        38\n",
      "2       5        8        51\n",
      "3       8        1        38\n",
      "4       9        3        55\n",
      "5       5        4        43\n",
      "6       4        0        25\n",
      "7       2        6        33\n",
      "8       8        7        71\n",
      "9       6        4        51\n",
      "10      9        2        49\n"
     ]
    }
   ],
   "source": [
    "# step 1: initiate program and read jewellery.csv to pandas df\n",
    "\n",
    "import numpy as np\n",
    "import pandas as pd\n",
    "\n",
    "%matplotlib inline\n",
    "import matplotlib.pyplot as plt\n",
    "\n",
    "df = pd.read_csv(\"jewellery.csv\", delimiter=\",\")\n",
    "print(df.describe()); print()\n",
    "print(df)"
   ]
  },
  {
   "cell_type": "code",
   "execution_count": 39,
   "metadata": {},
   "outputs": [
    {
     "name": "stdout",
     "output_type": "stream",
     "text": [
      "missing values of variable 'color':  0\n",
      "missing values of variable 'quality':  0\n",
      "missing values of variable 'price/cr':  0\n"
     ]
    }
   ],
   "source": [
    "# step 2: make sure data does not have any NaN values\n",
    "print(f\"missing values of variable 'color':  {sum(np.isnan(df[\"color\"]))}\")\n",
    "print(f\"missing values of variable 'quality':  {sum(np.isnan(df[\"color\"]))}\")\n",
    "print(f\"missing values of variable 'price/cr':  {sum(np.isnan(df[\"price/cr\"]))}\")"
   ]
  },
  {
   "cell_type": "code",
   "execution_count": 40,
   "metadata": {},
   "outputs": [
    {
     "data": {
      "image/png": "[encoded data removed]",
      "text/plain": [
       "<Figure size 640x480 with 2 Axes>"
      ]
     },
     "metadata": {},
     "output_type": "display_data"
    }
   ],
   "source": [
    "# step 3: draw scatter plots of both variables to get a fast comprehension\n",
    "\n",
    "from scipy import stats\n",
    "\n",
    "# create a linear regression function\n",
    "def linearRegression(data_x_axis, data_y_axis):\n",
    "    slope, intercept, r, p, std_err = stats.linregress(data_x_axis, data_y_axis)\n",
    "    return slope * data_x_axis + intercept\n",
    "\n",
    "# simple linear regression lines for separate predictors\n",
    "ax1_lm = linearRegression(df[\"color\"], df[\"price/cr\"])\n",
    "ax2_lm = linearRegression(df[\"quality\"], df[\"price/cr\"])\n",
    "\n",
    "fig = plt.figure()\n",
    "ax1 = fig.add_subplot(221)\n",
    "ax1.scatter(df[\"color\"], df[\"price/cr\"])\n",
    "ax1.set_xlabel(\"Color of gem\")\n",
    "ax1.set_ylabel(\"Price per carat\")\n",
    "ax1.plot(df[\"color\"], ax1_lm, color=\"green\", linewidth=3)\n",
    "ax2 = fig.add_subplot(222)\n",
    "ax2.scatter(df[\"quality\"], df[\"price/cr\"])\n",
    "ax2.set_xlabel(\"Quality of gem\")\n",
    "ax2.set_ylabel(\"Price per carat\")\n",
    "ax2.plot(df[\"quality\"], ax2_lm, color=\"green\", linewidth=3)\n",
    "plt.show()"
   ]
  },
  {
   "cell_type": "code",
   "execution_count": 41,
   "metadata": {},
   "outputs": [
    {
     "name": "stdout",
     "output_type": "stream",
     "text": [
      "color coefficient: 4.89528836451137, quality coefficient: 3.7584154829361682\n",
      "interception: 1.7514036585681438\n"
     ]
    }
   ],
   "source": [
    "# step 4: train a multi linear regression model and print its coefficients and interception\n",
    "import sklearn\n",
    "lm = sklearn.linear_model.LinearRegression()\n",
    "\n",
    "# need more than one [] to pick multiple columns, panda library speciality\n",
    "lm.fit(df[[\"color\", \"quality\"]], df[\"price/cr\"])\n",
    "\n",
    "print(f\"color coefficient: {lm.coef_[0]}, quality coefficient: {lm.coef_[1]}\")\n",
    "print(f\"interception: {lm.intercept_}\")\n"
   ]
  },
  {
   "cell_type": "code",
   "execution_count": 44,
   "metadata": {},
   "outputs": [
    {
     "name": "stdout",
     "output_type": "stream",
     "text": [
      "   color  quality  price/cr\n",
      "0      8        5         0\n",
      "1      1        0         0\n",
      "2      1        8         0\n",
      "3     10        0         0\n",
      "4     10        8         0\n",
      "\n",
      "   color  quality   price/cr\n",
      "0      8        5  59.705788\n",
      "1      1        0   6.646692\n",
      "2      1        8  36.714016\n",
      "3     10        0  50.704287\n",
      "4     10        8  80.771611\n"
     ]
    }
   ],
   "source": [
    "# step 5: predict values for the sample\n",
    "\n",
    "sample = pd.DataFrame({\n",
    "    \"color\": [8, 1, 1, 10, 10],\n",
    "    \"quality\": [5, 0, 8, 0, 8],\n",
    "    \"price/cr\": [0, 0, 0, 0, 0]\n",
    "    })\n",
    "\n",
    "print(sample); print()\n",
    "\n",
    "sample[\"price/cr\"] = lm.predict(sample[[\"color\", \"quality\"]])\n",
    "\n",
    "print(sample)"
   ]
  }
 ],
 "metadata": {
  "kernelspec": {
   "display_name": "base",
   "language": "python",
   "name": "python3"
  },
  "language_info": {
   "codemirror_mode": {
    "name": "ipython",
    "version": 3
   },
   "file_extension": ".py",
   "mimetype": "text/x-python",
   "name": "python",
   "nbconvert_exporter": "python",
   "pygments_lexer": "ipython3",
   "version": "3.12.7"
  }
 },
 "nbformat": 4,
 "nbformat_minor": 4
}
