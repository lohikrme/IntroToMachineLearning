{
 "cells": [
  {
   "cell_type": "markdown",
   "metadata": {},
   "source": [
    "# Multiple regression using Advertising dataset - student version\n",
    "\n",
    "\n",
    "Dataset: advertising.csv\n",
    "\n",
    "## Multiple Linear Regression\n",
    "\n",
    "Multiple Linear Regression is an extension of Simple Linear regression as it takes more than one predictor variable to predict the response variable. It is an algorithm that models the linear relationship between a single dependent continuous variable and more than one independent variable. It uses two or more independent variables to predict a dependent variable by fitting a best linear relationship.\n",
    "\n",
    "Equation\n",
    "\n",
    "$$y=\\beta_0+\\beta_1*x_1+\\beta_2*x_2+..+\\beta_n*x_n+e$$\n",
    "\n",
    "where\n",
    "- $y$ = Dependent variable / Target variable\n",
    "- $\\beta_0$ = Intercept of the regression line\n",
    "- $\\beta_0, \\beta_1, .. \\beta_n$ = Slope of the regression line which tells whether the line is increasing or decreasing\n",
    "- $ x_1, x_2, .. x_n$ = Independent variable / Predictor variable\n",
    "- e = Error \n"
   ]
  },
  {
   "cell_type": "markdown",
   "metadata": {},
   "source": [
    "Predicting sales based on the money spent on TV, Radio, and Newspaper for marketing. In this case, there are three independent variables, i.e., money spent on TV, Radio, and Newspaper for marketing, and one dependent variable, i.e., sales, that is the value to be predicted."
   ]
  },
  {
   "cell_type": "code",
   "execution_count": 13,
   "metadata": {},
   "outputs": [],
   "source": [
    "# Importing the libraries\n",
    "import pandas as pd\n",
    "import numpy as np\n",
    "import matplotlib.pyplot as plt\n",
    "import sklearn"
   ]
  },
  {
   "cell_type": "code",
   "execution_count": 14,
   "metadata": {},
   "outputs": [
    {
     "name": "stdout",
     "output_type": "stream",
     "text": [
      "        TV  Radio  Newspaper  Sales\n",
      "0    230.1   37.8       69.2   22.1\n",
      "1     44.5   39.3       45.1   10.4\n",
      "2     17.2   45.9       69.3   12.0\n",
      "3    151.5   41.3       58.5   16.5\n",
      "4    180.8   10.8       58.4   17.9\n",
      "..     ...    ...        ...    ...\n",
      "195   38.2    3.7       13.8    7.6\n",
      "196   94.2    4.9        8.1   14.0\n",
      "197  177.0    9.3        6.4   14.8\n",
      "198  283.6   42.0       66.2   25.5\n",
      "199  232.1    8.6        8.7   18.4\n",
      "\n",
      "[200 rows x 4 columns]\n",
      "\n",
      "               TV       Radio   Newspaper       Sales\n",
      "count  200.000000  200.000000  200.000000  200.000000\n",
      "mean   147.042500   23.264000   30.554000   15.130500\n",
      "std     85.854236   14.846809   21.778621    5.283892\n",
      "min      0.700000    0.000000    0.300000    1.600000\n",
      "25%     74.375000    9.975000   12.750000   11.000000\n",
      "50%    149.750000   22.900000   25.750000   16.000000\n",
      "75%    218.825000   36.525000   45.100000   19.050000\n",
      "max    296.400000   49.600000  114.000000   27.000000\n",
      "\n",
      "Amount of NaNs in tv: 0\n",
      "Amount of NaNs in tv: 0\n",
      "Amount of NaNs in tv: 0\n",
      "Amount of NaNs in tv: 0\n"
     ]
    }
   ],
   "source": [
    "# Reading the dataset\n",
    "# TODO: read the dataset (ds) and find out the properties\n",
    "df = pd.read_csv(\"advertising.csv\")\n",
    "print(df); print()\n",
    "\n",
    "print(df.describe()); print()\n",
    "\n",
    "print(f\"Amount of NaNs in tv: {sum(np.isnan(df[\"TV\"]))}\")\n",
    "print(f\"Amount of NaNs in tv: {sum(np.isnan(df[\"Newspaper\"]))}\")\n",
    "print(f\"Amount of NaNs in tv: {sum(np.isnan(df[\"Radio\"]))}\")\n",
    "print(f\"Amount of NaNs in tv: {sum(np.isnan(df[\"Sales\"]))}\")\n"
   ]
  },
  {
   "cell_type": "code",
   "execution_count": 15,
   "metadata": {},
   "outputs": [
    {
     "name": "stdout",
     "output_type": "stream",
     "text": [
      "        TV  Radio  Newspaper\n",
      "0    230.1   37.8       69.2\n",
      "1     44.5   39.3       45.1\n",
      "2     17.2   45.9       69.3\n",
      "3    151.5   41.3       58.5\n",
      "4    180.8   10.8       58.4\n",
      "..     ...    ...        ...\n",
      "195   38.2    3.7       13.8\n",
      "196   94.2    4.9        8.1\n",
      "197  177.0    9.3        6.4\n",
      "198  283.6   42.0       66.2\n",
      "199  232.1    8.6        8.7\n",
      "\n",
      "[200 rows x 3 columns]\n",
      "\n",
      "     Sales\n",
      "0     22.1\n",
      "1     10.4\n",
      "2     12.0\n",
      "3     16.5\n",
      "4     17.9\n",
      "..     ...\n",
      "195    7.6\n",
      "196   14.0\n",
      "197   14.8\n",
      "198   25.5\n",
      "199   18.4\n",
      "\n",
      "[200 rows x 1 columns]\n"
     ]
    }
   ],
   "source": [
    "# Setting the value for X (=features) and y (=sales)\n",
    "# TODO: select the features (X) and target (y)\n",
    "\n",
    "X = df[[\"TV\", \"Radio\", \"Newspaper\"]]\n",
    "y = df[[\"Sales\"]]\n",
    "\n",
    "print(X); print()\n",
    "print(y)\n"
   ]
  },
  {
   "cell_type": "code",
   "execution_count": null,
   "metadata": {},
   "outputs": [],
   "source": [
    "# Splitting the dataset\n",
    "# random_sate controls shuffling applied to the data before applying the split. \n",
    "# (pass an int for reproducible output across multiple function calls)\n",
    "# TODO: Split the dataset into train (X_train, y_train) and test sets (X_test, y_test) use 70/30 ratio\n",
    "\n",
    "X_train, X_test, y_train, y_test = sklearn.model_selection.train_test_split(\n",
    "    X, y, test_size = 0.3, random_state = 0\n",
    ")\n",
    "\n",
    "print(f\"len of X_train: {len(X_train)}\")\n",
    "\n"
   ]
  },
  {
   "cell_type": "code",
   "execution_count": null,
   "metadata": {},
   "outputs": [],
   "source": [
    "# Note test set is in random order (index values)\n",
    "X_test.iloc[:10]"
   ]
  },
  {
   "cell_type": "code",
   "execution_count": null,
   "metadata": {},
   "outputs": [],
   "source": [
    "# Fitting the Linear Regression model\n",
    "# TODO: build LinearRegression model using train data\n"
   ]
  },
  {
   "cell_type": "code",
   "execution_count": null,
   "metadata": {},
   "outputs": [],
   "source": [
    "# Intercept and Coefficient\n",
    "# TODO: print out the coefficients and intercept\n"
   ]
  },
  {
   "cell_type": "markdown",
   "metadata": {},
   "source": [
    "\\# TODO: write the conclusions  \n",
    "\n",
    "From these results one can conclude the following:\n",
    "- if no money is used in advertising, the sales is ...\n",
    "- single money increase spent on TV advertising will increase the sales ...\n",
    "- single money increase spent on Radio advertising will increase the sales ...\n",
    "- single money increase spent on Newspaper advertising will increase the sales ..."
   ]
  },
  {
   "cell_type": "code",
   "execution_count": null,
   "metadata": {},
   "outputs": [],
   "source": [
    "# Prediction of test set\n",
    "# TODO: use test set to predict the sales, print the predicted values\n",
    "\n",
    "# print predicted values\n"
   ]
  },
  {
   "cell_type": "code",
   "execution_count": null,
   "metadata": {},
   "outputs": [],
   "source": [
    "# Actual value and the predicted value\n",
    "# TODO: Calculate the difference (prediction error)\n"
   ]
  },
  {
   "cell_type": "code",
   "execution_count": null,
   "metadata": {},
   "outputs": [],
   "source": [
    "# visualize the results\n",
    "# TODO: Use scatter plot ot visualize the test and predicted values\n"
   ]
  },
  {
   "cell_type": "code",
   "execution_count": null,
   "metadata": {},
   "outputs": [],
   "source": [
    "# TODO: visualize the differences using bar plot\n"
   ]
  },
  {
   "cell_type": "markdown",
   "metadata": {},
   "source": [
    "## Evaluating the Model\n",
    "\n",
    "### R Squared: \n",
    "R Square is the coefficient of determination. It tells us how many points fall on the regression line. The value of R Square is 90.11, which indicates that 90.11% of the data fit the regression model.\n",
    "\n",
    "### Mean Absolute Error: \n",
    "Mean Absolute Error is the absolute difference between the actual or true values and the predicted values. The lower the value, the better is the model’s performance. A mean absolute error of 0 means that your model is a perfect predictor of the outputs. The mean absolute error obtained for this particular model is 1.227, which is quite good as it is close to 0.\n",
    "\n",
    "The mean_absolute_error function computes mean absolute error, a risk metric corresponding to the expected value of the absolute error loss or -norm loss.\n",
    "\n",
    "$$MAE(y,\\hat{y}) = \\frac{1}{n_{samples}} \\sum_{i=0}^{n-1} \\lvert y_i-\\hat{y} \\rvert$$\n",
    "\n",
    "### Mean Square Error: \n",
    "Mean Square Error is calculated by taking the average of the square of the difference between the original and predicted values of the data. The lower the value, the better is the model’s performance. The mean square error obtained for this particular model is 2.636, which is quite good.\n",
    "\n",
    "$$MSE(y,\\hat{y}) = \\frac{1}{n_{samples}} \\sum_{i=0}^{n-1} (y_i-\\hat{y})^2$$\n",
    "\n",
    "### Root Mean Square Error: \n",
    "Root Mean Square Error is the standard deviation of the errors which occur when a prediction is made on a dataset. This is the same as Mean Squared Error, but the root of the value is considered while determining the accuracy of the model. The lower the value, the better is the model’s performance. The root mean square error obtained for this particular model is 1.623, which is quite good.\n",
    "\n",
    "$$Root Mean Square Error (RMSE) = \\sqrt{MSE(y,\\hat{y})}$$"
   ]
  },
  {
   "cell_type": "code",
   "execution_count": null,
   "metadata": {},
   "outputs": [],
   "source": [
    "# Model Evaluation\n",
    "# TODO: Calculate and print the indicated metrics (use sklearn.metrics package)\n",
    "from sklearn import metrics\n",
    "\n",
    "print('R squared: {:.2f}'.format(...))\n",
    "print('R squared test: {:.2f}'.format(...))\n",
    "print('Mean Absolute Error:', ...)\n",
    "print('Mean Square Error:', ...)\n",
    "print('Root Mean Square Error:', ...)"
   ]
  }
 ],
 "metadata": {
  "kernelspec": {
   "display_name": "base",
   "language": "python",
   "name": "python3"
  },
  "language_info": {
   "codemirror_mode": {
    "name": "ipython",
    "version": 3
   },
   "file_extension": ".py",
   "mimetype": "text/x-python",
   "name": "python",
   "nbconvert_exporter": "python",
   "pygments_lexer": "ipython3",
   "version": "3.12.7"
  },
  "orig_nbformat": 4
 },
 "nbformat": 4,
 "nbformat_minor": 2
}
